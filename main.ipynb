{
 "cells": [
  {
   "cell_type": "code",
   "execution_count": 74,
   "metadata": {},
   "outputs": [],
   "source": [
    "import json\n",
    "import os\n",
    "import pathlib\n",
    "import pinecone\n",
    "import random\n",
    "import statistics"
   ]
  },
  {
   "cell_type": "code",
   "execution_count": 44,
   "metadata": {},
   "outputs": [],
   "source": [
    "PINECONE_API_KEY = os.environ[\"PINECONE_API_KEY\"]\n",
    "\n",
    "INDEX_NAME = \"multi-entity-recommender\"\n",
    "INDEX_DIMS = 1536\n",
    "\n",
    "data_dir = pathlib.Path(\"data\").resolve()"
   ]
  },
  {
   "cell_type": "code",
   "execution_count": 2,
   "metadata": {},
   "outputs": [],
   "source": [
    "pinecone.init(\n",
    "    api_key=PINECONE_API_KEY,\n",
    "    environment=\"us-west4-gcp-free\",\n",
    ")"
   ]
  },
  {
   "cell_type": "code",
   "execution_count": 52,
   "metadata": {},
   "outputs": [],
   "source": [
    "def load_embeddings(path):\n",
    "    embeddings = {}\n",
    "\n",
    "    for file in os.listdir(path):\n",
    "        id = file.removesuffix(\".txt\")\n",
    "        \n",
    "        with open(path / file, \"r\") as f:\n",
    "            embedding = json.load(f)\n",
    "        \n",
    "        embeddings[id] = embedding\n",
    "    \n",
    "    return embeddings\n",
    "\n",
    "\n",
    "books = load_embeddings(data_dir / \"embeddings\" / \"books\")\n",
    "movies = load_embeddings(data_dir / \"embeddings\" / \"movies\")\n",
    "tv = load_embeddings(data_dir / \"embeddings\" / \"tv\")\n",
    "\n",
    "all = books | movies | tv"
   ]
  },
  {
   "cell_type": "code",
   "execution_count": 53,
   "metadata": {},
   "outputs": [],
   "source": [
    "try:\n",
    "    pinecone.create_index(INDEX_NAME, dimension=1536)\n",
    "except Exception as e:\n",
    "    if INDEX_NAME not in pinecone.list_indexes():\n",
    "        raise e"
   ]
  },
  {
   "cell_type": "code",
   "execution_count": 50,
   "metadata": {},
   "outputs": [],
   "source": [
    "index = pinecone.Index(INDEX_NAME, pool_threads=50)"
   ]
  },
  {
   "cell_type": "code",
   "execution_count": 37,
   "metadata": {},
   "outputs": [
    {
     "name": "stderr",
     "output_type": "stream",
     "text": [
      "Upserted vectors: 100%|██████████| 3000/3000 [01:20<00:00, 37.09it/s]\n"
     ]
    },
    {
     "data": {
      "text/plain": [
       "{'upserted_count': 3000}"
      ]
     },
     "execution_count": 37,
     "metadata": {},
     "output_type": "execute_result"
    }
   ],
   "source": [
    "index.upsert(\n",
    "    vectors=list(all.items()),\n",
    "    batch_size=10,\n",
    ")"
   ]
  },
  {
   "cell_type": "code",
   "execution_count": 43,
   "metadata": {},
   "outputs": [
    {
     "data": {
      "text/plain": [
       "{'matches': [{'id': 'imdb:movie:tt0180093', 'score': 1.0, 'values': []},\n",
       "             {'id': 'imdb:movie:tt5109784', 'score': 0.898632884, 'values': []},\n",
       "             {'id': 'imdb:movie:tt2229499', 'score': 0.875571072, 'values': []},\n",
       "             {'id': 'imdb:movie:tt0338013', 'score': 0.870142698, 'values': []},\n",
       "             {'id': 'imdb:movie:tt0414993', 'score': 0.870064735, 'values': []},\n",
       "             {'id': 'imdb:movie:tt1959490', 'score': 0.863276184, 'values': []},\n",
       "             {'id': 'imdb:movie:tt4550098', 'score': 0.862037241, 'values': []},\n",
       "             {'id': 'imdb:movie:tt0947798', 'score': 0.860651672, 'values': []},\n",
       "             {'id': 'imdb:movie:tt0257044', 'score': 0.859552681, 'values': []},\n",
       "             {'id': 'imdb:movie:tt1125849',\n",
       "              'score': 0.859465837,\n",
       "              'values': []}],\n",
       " 'namespace': ''}"
      ]
     },
     "execution_count": 43,
     "metadata": {},
     "output_type": "execute_result"
    }
   ],
   "source": [
    "# Requiem for a Dream\n",
    "# https://www.imdb.com/title/tt0180093\n",
    "index.query(\n",
    "    id=\"imdb:movie:tt0180093\",\n",
    "    top_k=10,\n",
    ")"
   ]
  },
  {
   "cell_type": "code",
   "execution_count": 42,
   "metadata": {},
   "outputs": [
    {
     "data": {
      "text/plain": [
       "{'matches': [{'id': 'goodreads:book:1', 'score': 1.0, 'values': []},\n",
       "             {'id': 'imdb:movie:tt0417741', 'score': 0.96148777, 'values': []},\n",
       "             {'id': 'goodreads:book:8', 'score': 0.948156953, 'values': []},\n",
       "             {'id': 'goodreads:book:15881', 'score': 0.934124351, 'values': []},\n",
       "             {'id': 'goodreads:book:5', 'score': 0.932909071, 'values': []},\n",
       "             {'id': 'goodreads:book:2', 'score': 0.931541264, 'values': []},\n",
       "             {'id': 'imdb:movie:tt1201607', 'score': 0.929012239, 'values': []},\n",
       "             {'id': 'imdb:movie:tt0926084', 'score': 0.921922088, 'values': []},\n",
       "             {'id': 'imdb:movie:tt0330373', 'score': 0.921125114, 'values': []},\n",
       "             {'id': 'imdb:movie:tt0295297',\n",
       "              'score': 0.919870853,\n",
       "              'values': []}],\n",
       " 'namespace': ''}"
      ]
     },
     "execution_count": 42,
     "metadata": {},
     "output_type": "execute_result"
    }
   ],
   "source": [
    "# Harry Potter and the Half-Blood Prince\n",
    "# https://www.goodreads.com/en/book/show/1\n",
    "index.query(\n",
    "    id=\"goodreads:book:1\",\n",
    "    top_k=10,\n",
    ")"
   ]
  },
  {
   "cell_type": "code",
   "execution_count": 72,
   "metadata": {},
   "outputs": [
    {
     "data": {
      "text/plain": [
       "0.02550607407157708"
      ]
     },
     "execution_count": 72,
     "metadata": {},
     "output_type": "execute_result"
    }
   ],
   "source": []
  },
  {
   "cell_type": "code",
   "execution_count": 77,
   "metadata": {},
   "outputs": [
    {
     "data": {
      "text/plain": [
       "{'matches': [{'id': 'goodreads:book:32929',\n",
       "              'score': 0.0440304503,\n",
       "              'values': []},\n",
       "             {'id': 'goodreads:book:24178',\n",
       "              'score': 0.0412061736,\n",
       "              'values': []},\n",
       "             {'id': 'goodreads:book:44652',\n",
       "              'score': 0.0386374108,\n",
       "              'values': []},\n",
       "             {'id': 'goodreads:book:45102', 'score': 0.0380659, 'values': []},\n",
       "             {'id': 'goodreads:book:5338', 'score': 0.0376384705, 'values': []},\n",
       "             {'id': 'imdb:tv:tt6474378', 'score': 0.0373258218, 'values': []},\n",
       "             {'id': 'goodreads:book:20564',\n",
       "              'score': 0.0372788794,\n",
       "              'values': []},\n",
       "             {'id': 'imdb:tv:tt7462410', 'score': 0.0362671837, 'values': []},\n",
       "             {'id': 'goodreads:book:903', 'score': 0.0361516587, 'values': []},\n",
       "             {'id': 'goodreads:book:2956',\n",
       "              'score': 0.0360366106,\n",
       "              'values': []}],\n",
       " 'namespace': ''}"
      ]
     },
     "execution_count": 77,
     "metadata": {},
     "output_type": "execute_result"
    }
   ],
   "source": [
    "# Random query vector\n",
    "\n",
    "sigma = statistics.stdev([x for xs in all.values() for x in xs])\n",
    "\n",
    "def rand():\n",
    "    r = random.normalvariate(0, sigma)\n",
    "    if r > 1:\n",
    "        return 1\n",
    "    if r < -1:\n",
    "        return -1\n",
    "    return r\n",
    "\n",
    "xq = [rand() for _ in range(INDEX_DIMS)]\n",
    "\n",
    "index.query(\n",
    "    vector=xq,\n",
    "    top_k=10,\n",
    ")"
   ]
  }
 ],
 "metadata": {
  "kernelspec": {
   "display_name": "pinecone-multi-entity-recommender",
   "language": "python",
   "name": "python3"
  },
  "language_info": {
   "codemirror_mode": {
    "name": "ipython",
    "version": 3
   },
   "file_extension": ".py",
   "mimetype": "text/x-python",
   "name": "python",
   "nbconvert_exporter": "python",
   "pygments_lexer": "ipython3",
   "version": "3.11.3"
  },
  "orig_nbformat": 4
 },
 "nbformat": 4,
 "nbformat_minor": 2
}
